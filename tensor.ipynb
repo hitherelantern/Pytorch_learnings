{
 "cells": [
  {
   "cell_type": "code",
   "execution_count": 4,
   "id": "22400a0e",
   "metadata": {},
   "outputs": [
    {
     "name": "stdout",
     "output_type": "stream",
     "text": [
      "2.6.0+cpu\n"
     ]
    }
   ],
   "source": [
    "import torch\n",
    "\n",
    "print(torch.__version__)"
   ]
  },
  {
   "cell_type": "code",
   "execution_count": 6,
   "id": "39d8a886",
   "metadata": {},
   "outputs": [
    {
     "name": "stdout",
     "output_type": "stream",
     "text": [
      "False\n"
     ]
    }
   ],
   "source": [
    "print(torch.cuda.is_available())"
   ]
  },
  {
   "cell_type": "markdown",
   "id": "bedf092d",
   "metadata": {},
   "source": [
    "### Creating a tensor"
   ]
  },
  {
   "cell_type": "code",
   "execution_count": 18,
   "id": "81ba71a4",
   "metadata": {},
   "outputs": [
    {
     "name": "stdout",
     "output_type": "stream",
     "text": [
      "tensor([[8.8036e+12, 1.0468e-42, 5.4558e-01],\n",
      "        [1.5241e-01, 5.0594e-01, 7.6809e-01]])\n",
      "tensor([[0., 0., 0.],\n",
      "        [0., 0., 0.]])\n",
      "tensor([[1., 1., 1.],\n",
      "        [1., 1., 1.]])\n"
     ]
    }
   ],
   "source": [
    "print(torch.empty(2,3))\n",
    "print(torch.zeros(2,3))\n",
    "print(torch.ones(2,3))"
   ]
  },
  {
   "cell_type": "code",
   "execution_count": 22,
   "id": "3ce2bd96",
   "metadata": {},
   "outputs": [
    {
     "name": "stdout",
     "output_type": "stream",
     "text": [
      "tensor([[0.2627, 0.0428, 0.2080],\n",
      "        [0.1180, 0.1217, 0.7356]])\n"
     ]
    },
    {
     "data": {
      "text/plain": [
       "tensor([[0.1117, 0.8158, 0.2626],\n",
       "        [0.4839, 0.6765, 0.7539]])"
      ]
     },
     "execution_count": 22,
     "metadata": {},
     "output_type": "execute_result"
    }
   ],
   "source": [
    "# random values that lie b/w o and 1 (Normal distribution)\n",
    "print(torch.rand(2,3))\n",
    "\n",
    "# use of seed for reproduciblity\n",
    "torch.manual_seed(100)\n",
    "torch.rand(2,3)"
   ]
  },
  {
   "cell_type": "code",
   "execution_count": 23,
   "id": "80f13131",
   "metadata": {},
   "outputs": [
    {
     "data": {
      "text/plain": [
       "tensor([[1, 2, 3],\n",
       "        [4, 5, 6]])"
      ]
     },
     "execution_count": 23,
     "metadata": {},
     "output_type": "execute_result"
    }
   ],
   "source": [
    "# custom tensor using an iterable like a python list!\n",
    "torch.tensor([[1,2,3],[4,5,6]])"
   ]
  },
  {
   "cell_type": "code",
   "execution_count": 48,
   "id": "1cc1e4dc",
   "metadata": {},
   "outputs": [
    {
     "name": "stdout",
     "output_type": "stream",
     "text": [
      "tensor([0, 2, 4, 6, 8])\n",
      "tensor([0, 1, 2, 3, 4, 5, 6, 7, 8, 9])\n",
      "-------------------------------------------\n",
      "tensor([ 0.0000,  1.1111,  2.2222,  3.3333,  4.4444,  5.5556,  6.6667,  7.7778,\n",
      "         8.8889, 10.0000])\n",
      "tensor([ 0.0000,  3.3333,  6.6667, 10.0000])\n"
     ]
    }
   ],
   "source": [
    "# using arange\n",
    "print(torch.arange(0,10,2))\n",
    "print(torch.arange(0,10))\n",
    "\n",
    "print(\"-------------------------------------------\")\n",
    "\n",
    "\n",
    "# using linspace\n",
    "print(torch.linspace(0,10,10))\n",
    "print(torch.linspace(0,10,4))"
   ]
  },
  {
   "cell_type": "code",
   "execution_count": 47,
   "id": "a29f14b7",
   "metadata": {},
   "outputs": [
    {
     "name": "stdout",
     "output_type": "stream",
     "text": [
      "tensor([[1., 0., 0.],\n",
      "        [0., 1., 0.],\n",
      "        [0., 0., 1.]])\n",
      "tensor([[1.]])\n",
      "tensor([[1., 0.],\n",
      "        [0., 1.]])\n",
      "-------------------------------------------\n",
      "tensor([[5, 5],\n",
      "        [5, 5]])\n",
      "tensor([[5],\n",
      "        [5]])\n",
      "tensor([[2]])\n",
      "tensor([[1, 1, 1],\n",
      "        [1, 1, 1],\n",
      "        [1, 1, 1]])\n"
     ]
    }
   ],
   "source": [
    "# using eye (Identity matrix), specify the order\n",
    "print(torch.eye(3))\n",
    "print(torch.eye(1))\n",
    "print(torch.eye(2))\n",
    "\n",
    "print(\"-------------------------------------------\")\n",
    "\n",
    "# using full (constant matrix/uniform matrix)\n",
    "print(torch.full((2,2),5))\n",
    "print(torch.full((2,1),5))\n",
    "print(torch.full((1,1),2))\n",
    "print(torch.full((3,3),1))"
   ]
  },
  {
   "cell_type": "code",
   "execution_count": null,
   "id": "33a41294",
   "metadata": {},
   "outputs": [],
   "source": []
  },
  {
   "cell_type": "markdown",
   "id": "94e11b60",
   "metadata": {},
   "source": [
    "### Tensor shapes"
   ]
  },
  {
   "cell_type": "code",
   "execution_count": 51,
   "id": "107e0df2",
   "metadata": {},
   "outputs": [
    {
     "name": "stdout",
     "output_type": "stream",
     "text": [
      "torch.Size([2, 3]) <class 'torch.Tensor'>\n"
     ]
    }
   ],
   "source": [
    "x = torch.tensor([[1,2,3],[4,5,6]])\n",
    "print(x.shape,type(x))"
   ]
  },
  {
   "cell_type": "code",
   "execution_count": 55,
   "id": "e480aa88",
   "metadata": {},
   "outputs": [
    {
     "name": "stdout",
     "output_type": "stream",
     "text": [
      "tensor([[1065353216,          0, 1065353216],\n",
      "        [         0, 1065353216,          1]])\n",
      "tensor([[0, 0, 0],\n",
      "        [0, 0, 0]])\n",
      "tensor([[1, 1, 1],\n",
      "        [1, 1, 1]])\n"
     ]
    }
   ],
   "source": [
    "print(torch.empty_like(x))\n",
    "\n",
    "print(torch.zeros_like(x))\n",
    "\n",
    "print(torch.ones_like(x))\n"
   ]
  },
  {
   "cell_type": "code",
   "execution_count": 74,
   "id": "4eb5a709",
   "metadata": {},
   "outputs": [
    {
     "name": "stdout",
     "output_type": "stream",
     "text": [
      "error:mismatch of datatype b/w rand_like() and x\n"
     ]
    }
   ],
   "source": [
    "try:\n",
    "    print(torch.rand_like(x))\n",
    "except RuntimeError as e:\n",
    "    print(f\"error:mismatch of datatype b/w rand_like() and x\")"
   ]
  },
  {
   "cell_type": "markdown",
   "id": "d146fdb9",
   "metadata": {},
   "source": [
    "### Tensor data types"
   ]
  },
  {
   "cell_type": "code",
   "execution_count": 71,
   "metadata": {},
   "outputs": [
    {
     "name": "stdout",
     "output_type": "stream",
     "text": [
      "torch.int64\n"
     ]
    },
    {
     "data": {
      "text/plain": [
       "tensor([1., 2., 3.])"
      ]
     },
     "execution_count": 71,
     "metadata": {},
     "output_type": "execute_result"
    }
   ],
   "source": [
    "print(x.dtype)\n",
    "torch.tensor([1,2,3],dtype = torch.float32)"
   ]
  },
  {
   "cell_type": "code",
   "execution_count": 77,
   "metadata": {},
   "outputs": [
    {
     "name": "stdout",
     "output_type": "stream",
     "text": [
      "tensor([[0.4440, 0.9478, 0.7445],\n",
      "        [0.4892, 0.2426, 0.7003]])\n"
     ]
    }
   ],
   "source": [
    "# solving the datatype mismatch error!\n",
    "print(torch.rand_like(x,dtype = torch.float32))"
   ]
  },
  {
   "cell_type": "code",
   "execution_count": null,
   "id": "6946839c",
   "metadata": {},
   "outputs": [
    {
     "name": "stdout",
     "output_type": "stream",
     "text": [
      "tensor([[1., 2., 3.],\n",
      "        [4., 5., 6.]])\n"
     ]
    }
   ],
   "source": [
    "# converting a given tensor to another data type\n",
    "print(x.to(torch.float32))"
   ]
  },
  {
   "cell_type": "markdown",
   "id": "ba0601b4",
   "metadata": {},
   "source": [
    "| **Data Type**             | **Dtype**         | **Description**                                                                                                                                                                |\n",
    "|---------------------------|-------------------|--------------------------------------------------------------------------------------------------------------------------------------------------------------------------------|\n",
    "| **32-bit Floating Point** | `torch.float32`   | Standard floating-point type used for most deep learning tasks. Provides a balance between precision and memory usage.                                                         |\n",
    "| **64-bit Floating Point** | `torch.float64`   | Double-precision floating point. Useful for high-precision numerical tasks but uses more memory.                                                                               |\n",
    "| **16-bit Floating Point** | `torch.float16`   | Half-precision floating point. Commonly used in mixed-precision training to reduce memory and computational overhead on modern GPUs.                                            |\n",
    "| **BFloat16**              | `torch.bfloat16`  | Brain floating-point format with reduced precision compared to `float16`. Used in mixed-precision training, especially on TPUs.                                                |\n",
    "| **8-bit Floating Point**  | `torch.float8`    | Ultra-low-precision floating point. Used for experimental applications and extreme memory-constrained environments (less common).                                               |\n",
    "| **8-bit Integer**         | `torch.int8`      | 8-bit signed integer. Used for quantized models to save memory and computation in inference.                                                                                   |\n",
    "| **16-bit Integer**        | `torch.int16`     | 16-bit signed integer. Useful for special numerical tasks requiring intermediate precision.                                                                                    |\n",
    "| **32-bit Integer**        | `torch.int32`     | Standard signed integer type. Commonly used for indexing and general-purpose numerical tasks.                                                                                  |\n",
    "| **64-bit Integer**        | `torch.int64`     | Long integer type. Often used for large indexing arrays or for tasks involving large numbers.                                                                                  |\n",
    "| **8-bit Unsigned Integer**| `torch.uint8`     | 8-bit unsigned integer. Commonly used for image data (e.g., pixel values between 0 and 255).                                                                                    |\n",
    "| **Boolean**               | `torch.bool`      | Boolean type, stores `True` or `False` values. Often used for masks in logical operations.                                                                                      |\n",
    "| **Complex 64**            | `torch.complex64` | Complex number type with 32-bit real and 32-bit imaginary parts. Used for scientific and signal processing tasks.                                                               |\n",
    "| **Complex 128**           | `torch.complex128`| Complex number type with 64-bit real and 64-bit imaginary parts. Offers higher precision but uses more memory.                                                                 |\n",
    "| **Quantized Integer**     | `torch.qint8`     | Quantized signed 8-bit integer. Used in quantized models for efficient inference.                                                                                              |\n",
    "| **Quantized Unsigned Integer** | `torch.quint8` | Quantized unsigned 8-bit integer. Often used for quantized tensors in image-related tasks.                                                                                     |\n"
   ]
  },
  {
   "cell_type": "code",
   "execution_count": null,
   "id": "c20bee4e",
   "metadata": {},
   "outputs": [],
   "source": []
  },
  {
   "cell_type": "markdown",
   "id": "14d897e3",
   "metadata": {},
   "source": [
    "### Mathematical operations (tensors)"
   ]
  },
  {
   "cell_type": "markdown",
   "id": "7c2cc6c8",
   "metadata": {},
   "source": [
    "#### Scalar operation"
   ]
  },
  {
   "cell_type": "code",
   "execution_count": 82,
   "id": "0d44cb2a",
   "metadata": {},
   "outputs": [
    {
     "data": {
      "text/plain": [
       "tensor([[0.0169, 0.2209],\n",
       "        [0.9535, 0.7064]])"
      ]
     },
     "execution_count": 82,
     "metadata": {},
     "output_type": "execute_result"
    }
   ],
   "source": [
    "x = torch.rand(2,2)\n",
    "x"
   ]
  },
  {
   "cell_type": "code",
   "execution_count": 96,
   "id": "5b91de0c",
   "metadata": {},
   "outputs": [
    {
     "name": "stdout",
     "output_type": "stream",
     "text": [
      "tensor([[2.0169, 2.2209],\n",
      "        [2.9535, 2.7064]])\n",
      "\n",
      "tensor([[-1.9831, -1.7791],\n",
      "        [-1.0465, -1.2936]])\n",
      "\n",
      "tensor([[0.0338, 0.4418],\n",
      "        [1.9071, 1.4128]])\n",
      "\n",
      "tensor([[0.0084, 0.1104],\n",
      "        [0.4768, 0.3532]])\n",
      "\n",
      "tensor([[ 0., 11.],\n",
      "        [47., 35.]])\n",
      "\n",
      "tensor([[0., 1.],\n",
      "        [1., 1.]])\n",
      "\n",
      "tensor([[2.8558e-04, 4.8794e-02],\n",
      "        [9.0923e-01, 4.9901e-01]])\n"
     ]
    }
   ],
   "source": [
    "# addition\n",
    "print(x+2)\n",
    "print()\n",
    "\n",
    "# substraction\n",
    "print(x-2)\n",
    "print()\n",
    "\n",
    "# multiplication\n",
    "print(x*2)\n",
    "print()\n",
    "\n",
    "\n",
    "# division\n",
    "print(x/2)\n",
    "print()\n",
    "\n",
    "# integer division\n",
    "print((x*100)//2)\n",
    "print()\n",
    "\n",
    "# mod\n",
    "print(((x*100)//2)%2)\n",
    "print()\n",
    "\n",
    "# power\n",
    "print(x**2)"
   ]
  },
  {
   "cell_type": "markdown",
   "id": "84facee0",
   "metadata": {},
   "source": [
    "#### Element wise operation(tensor)"
   ]
  },
  {
   "cell_type": "code",
   "execution_count": 117,
   "id": "9e0108b2",
   "metadata": {},
   "outputs": [
    {
     "data": {
      "text/plain": [
       "(tensor([[-1.5916, -0.0928,  1.9353],\n",
       "         [-0.3017,  0.9403, -2.1502]]),\n",
       " tensor([[0.5772, 0.3771, 0.2440],\n",
       "         [0.8994, 0.1041, 0.9193]]))"
      ]
     },
     "execution_count": 117,
     "metadata": {},
     "output_type": "execute_result"
    }
   ],
   "source": [
    "a = torch.randn(2,3)\n",
    "b = torch.rand(2,3)\n",
    "a,b"
   ]
  },
  {
   "cell_type": "code",
   "execution_count": 121,
   "id": "aa6c51af",
   "metadata": {},
   "outputs": [
    {
     "name": "stdout",
     "output_type": "stream",
     "text": [
      "tensor([[-1.0144,  0.2843,  2.1794],\n",
      "        [ 0.5977,  1.0444, -1.2309]])\n",
      "tensor([[-2.1688, -0.4700,  1.6913],\n",
      "        [-1.2011,  0.8362, -3.0695]])\n",
      "tensor([[-0.9186, -0.0350,  0.4722],\n",
      "        [-0.2714,  0.0979, -1.9766]])\n",
      "tensor([[-2.7574, -0.2461,  7.9315],\n",
      "        [-0.3355,  9.0339, -2.3390]])\n"
     ]
    }
   ],
   "source": [
    "# addition\n",
    "print(a+b)\n",
    "\n",
    "# substraction\n",
    "print(a-b)\n",
    "\n",
    "# multiplication\n",
    "print(a*b)\n",
    "\n",
    "#division\n",
    "print(a/b)"
   ]
  },
  {
   "cell_type": "code",
   "execution_count": 148,
   "id": "f4688ef7",
   "metadata": {},
   "outputs": [
    {
     "name": "stdout",
     "output_type": "stream",
     "text": [
      "tensor([-1, -2, -3]) torch.int64 tensor([1, 2, 3])\n",
      "\n",
      "tensor([ 1.2000, -2.5000,  3.2000, -1.0000,  2.5000]) torch.float32 tensor([ 1., -2.,  3., -1.,  2.])\n",
      "\n",
      "tensor([ 2., -2.,  4., -1.,  3.])\n",
      "\n",
      "tensor([ 1., -3.,  3., -1.,  2.])\n",
      "\n",
      "tensor([2.0000, 2.0000, 3.0000, 2.0000, 2.5000])\n"
     ]
    }
   ],
   "source": [
    "# Absolute value\n",
    "\n",
    "c = torch.tensor([-1,-2,-3])\n",
    "print(c,c.dtype,torch.absolute(c))\n",
    "print()\n",
    "\n",
    "\n",
    "# Round\n",
    "d = torch.tensor([1.2,-2.5,3.2,-1,2.5])\n",
    "print(d,d.dtype,torch.round(d))\n",
    "print()\n",
    "\n",
    "# ceil\n",
    "print(torch.ceil(d))\n",
    "print()\n",
    "\n",
    "# floor\n",
    "print(torch.floor(d))\n",
    "print()\n",
    "\n",
    "# clamp (clamp the values b/w 2 and 3)\n",
    "# Those values less than 2 becomes 2 and greater than 3 becomes 3\n",
    "print(torch.clamp(d,min=2,max=3))"
   ]
  },
  {
   "cell_type": "code",
   "execution_count": 168,
   "id": "9221b3be",
   "metadata": {},
   "outputs": [
    {
     "name": "stdout",
     "output_type": "stream",
     "text": [
      "tensor([[3, 3, 4],\n",
      "        [4, 0, 0]]) torch.Size([2, 3]) tensor(14) torch.Size([])\n",
      "tensor([7, 3, 4]) torch.Size([3])\n",
      "tensor([10,  4]) torch.Size([2])\n"
     ]
    }
   ],
   "source": [
    "torch.manual_seed(100)\n",
    "\n",
    "# sum\n",
    "a = torch.randint(-1,5,(2,3))\n",
    "print(a,a.shape,torch.sum(a),torch.sum(a).shape)\n",
    "\n",
    "# sum along columns\n",
    "print(torch.sum(a,dim=0),torch.sum(a,dim=0).shape)\n",
    "\n",
    "# sum along rows\n",
    "print(torch.sum(a,dim=1),torch.sum(a,dim=1).shape)\n"
   ]
  },
  {
   "cell_type": "code",
   "execution_count": 194,
   "id": "f044cc19",
   "metadata": {},
   "outputs": [
    {
     "name": "stdout",
     "output_type": "stream",
     "text": [
      "tensor(2.3333, dtype=torch.float64)\n",
      "tensor([3.5000, 1.5000, 2.0000], dtype=torch.float64)\n",
      "tensor([3.3333, 1.3333], dtype=torch.float64)\n",
      "\n",
      "tensor(3)\n",
      "tensor(1.8619)\n",
      "\n",
      "product:0\n",
      "variance:3.4666666984558105\n",
      "argmax:(tensor(2), <class 'torch.Tensor'>)\n",
      "tensor(4)\n"
     ]
    }
   ],
   "source": [
    "# mean\n",
    "print(torch.mean(a,dtype=float))\n",
    "print(torch.mean(a,dim=0,dtype=float))\n",
    "print(torch.mean(a,dim=1,dtype=float))\n",
    "print()\n",
    "\n",
    "# median\n",
    "print(torch.median(a))\n",
    "\n",
    "# standard deviation\n",
    "print(torch.std(a.float()))\n",
    "print()\n",
    "\n",
    "# product \n",
    "print(f\"product:{torch.prod(a)}\")\n",
    "\n",
    "# variance\n",
    "print(f\"variance:{torch.var(a.float())}\")\n",
    "\n",
    "# argmax\n",
    "print(f\"argmax:{torch.argmax(a),type(torch.argmax(a))}\")\n",
    "\n",
    "# argmin\n",
    "print(torch.argmin(a))\n"
   ]
  },
  {
   "cell_type": "markdown",
   "id": "c2615be8",
   "metadata": {},
   "source": [
    "#### Matrix operations"
   ]
  },
  {
   "cell_type": "code",
   "execution_count": 229,
   "id": "48c5fed2",
   "metadata": {},
   "outputs": [
    {
     "name": "stdout",
     "output_type": "stream",
     "text": [
      "tensor([[8, 8],\n",
      "        [9, 9]])\n",
      "tensor([[3, 3],\n",
      "        [2, 3]])\n",
      "product of f and g:tensor([[40, 48],\n",
      "        [45, 54]])\n",
      "inverse multiplication :tensor([[51, 51],\n",
      "        [43, 43]])\n",
      "\n",
      "tensor([1, 2, 3]) tensor([ 1, -1,  2])\n",
      "dot product of v1 and v2:5\n",
      "inverse:5\n",
      "tensor([[8, 9],\n",
      "        [8, 9]])\n",
      "tensor([[8, 9],\n",
      "        [8, 9]])\n",
      "tensor(3.)\n"
     ]
    }
   ],
   "source": [
    "torch.manual_seed(100)\n",
    "f = torch.randint(1,10,(2,2))\n",
    "g = torch.randint(2,5,(2,2))\n",
    "\n",
    "print(f)\n",
    "print(g)\n",
    "\n",
    "# Matrix multiplication\n",
    "print(f\"product of f and g:{torch.matmul(f,g)}\")\n",
    "print(f\"inverse multiplication :{torch.matmul(g,f)}\")\n",
    "print()\n",
    "\n",
    "# Dot product \n",
    "v1 = torch.tensor([1,2,3])\n",
    "v2 = torch.tensor([1,-1,2])\n",
    "print(v1,v2)\n",
    "print(f\"dot product of v1 and v2:{torch.dot(v1,v2)}\")\n",
    "print(f\"inverse:{torch.dot(v2,v1)}\")\n",
    "\n",
    "\n",
    "# Transpose\n",
    "print(torch.transpose(f,dim0=0,dim1=1))\n",
    "print(torch.transpose(f,1,0)) # only because it has 2 dimensions\n",
    "\n",
    "# determinant\n",
    "print(torch.det(g.float()))"
   ]
  },
  {
   "cell_type": "markdown",
   "id": "7ece88b8",
   "metadata": {},
   "source": [
    "#### Comparison operations"
   ]
  },
  {
   "cell_type": "code",
   "execution_count": 236,
   "id": "5e829900",
   "metadata": {},
   "outputs": [
    {
     "name": "stdout",
     "output_type": "stream",
     "text": [
      "tensor([[0, 2, 5],\n",
      "        [9, 5, 1]])\n",
      "tensor([[2, 8, 8],\n",
      "        [0, 4, 3]])\n",
      "\n",
      "tensor([[False, False, False],\n",
      "        [ True,  True, False]])\n",
      "tensor([[ True,  True,  True],\n",
      "        [False, False,  True]])\n",
      "tensor([[False, False, False],\n",
      "        [False, False, False]])\n",
      "tensor([[False, False, False],\n",
      "        [ True,  True, False]])\n",
      "tensor([[False, False, False],\n",
      "        [ True,  True, False]])\n",
      "tensor([[True, True, True],\n",
      "        [True, True, True]])\n"
     ]
    }
   ],
   "source": [
    "torch.manual_seed(100)\n",
    "i = torch.randint(10,(2,3))\n",
    "j = torch.randint(10,(2,3))\n",
    "\n",
    "print(i)\n",
    "print(j)\n",
    "print()\n",
    "\n",
    "print(i>j)\n",
    "print(j>i)\n",
    "print(j==i)\n",
    "print(i>=j)\n",
    "print(j<=i)\n",
    "print(j!=i)\n",
    "\n"
   ]
  },
  {
   "cell_type": "markdown",
   "id": "f11557c7",
   "metadata": {},
   "source": [
    "#### Some important functions on tensors"
   ]
  },
  {
   "cell_type": "code",
   "execution_count": 247,
   "id": "e471d9b6",
   "metadata": {},
   "outputs": [
    {
     "name": "stdout",
     "output_type": "stream",
     "text": [
      "tensor([[4, 3, 2],\n",
      "        [3, 2, 4]])\n",
      "tensor([[1.3863, 1.0986, 0.6931],\n",
      "        [1.0986, 0.6931, 1.3863]])\n",
      "\n",
      "tensor([[0.9820, 0.9526, 0.8808],\n",
      "        [0.9526, 0.8808, 0.9820]])\n",
      "\n",
      "tensor([[0.7311, 0.7311, 0.1192],\n",
      "        [0.2689, 0.2689, 0.8808]])\n",
      "\n",
      "tensor([[4, 3, 2],\n",
      "        [3, 2, 4]])\n"
     ]
    }
   ],
   "source": [
    "torch.manual_seed(20)\n",
    "k = torch.randint(2,5,(2,3))\n",
    "\n",
    "# Log\n",
    "print(k)\n",
    "print(torch.log(k))\n",
    "print()\n",
    "\n",
    "# sigmoid\n",
    "print(torch.sigmoid(k))\n",
    "print()\n",
    "\n",
    "# softmax(along columns)\n",
    "print(torch.softmax(k,dim=0,dtype=torch.float32))\n",
    "print()\n",
    "\n",
    "# relu\n",
    "print(torch.relu(k))"
   ]
  },
  {
   "cell_type": "code",
   "execution_count": null,
   "id": "23499a33",
   "metadata": {},
   "outputs": [],
   "source": []
  },
  {
   "cell_type": "markdown",
   "id": "1a964e9d",
   "metadata": {},
   "source": [
    "### Inplace operations"
   ]
  },
  {
   "cell_type": "code",
   "execution_count": 272,
   "id": "b3de8f23",
   "metadata": {},
   "outputs": [
    {
     "name": "stdout",
     "output_type": "stream",
     "text": [
      "tensor([[0.5615, 0.1774, 0.8147],\n",
      "        [0.3295, 0.2319, 0.7832]])\n",
      "tensor([[0.8544, 0.1012, 0.1877],\n",
      "        [0.9310, 0.0899, 0.3156]])\n",
      "\n",
      "id of x:2048124187536\n",
      "id of y:2048125585760\n",
      "\n",
      "inplace operation,id of x.add_(y): 2048124187536,(is same as the id of x because x gets modified in place)\n",
      "id of x+y: 2048129521600, a new memory space is created\n",
      "\n",
      "id of torch.relu(x): 2048129521600,a new memory address\n",
      "id of torch.relu_(x): 2048124187536, is the same as id of x because x gets modified in place\n"
     ]
    }
   ],
   "source": [
    "torch.manual_seed(20)\n",
    "x = torch.rand(2,3)\n",
    "y = torch.rand(2,3)\n",
    "print(x),print(y)\n",
    "print()\n",
    "\n",
    "print(f\"id of x:{id(x)}\")\n",
    "print(f\"id of y:{id(y)}\")\n",
    "print()\n",
    "\n",
    "print(f\"inplace operation,id of x.add_(y): {id(x.add_(y))},(is same as the id of x because x gets modified in place)\")\n",
    "print(f\"id of x+y: {id(x+y)}, a new memory space is created\")\n",
    "print()\n",
    "\n",
    "print(f\"id of torch.relu(x): {id(torch.relu(x))},a new memory address\")\n",
    "print(f\"id of torch.relu_(x): {id(torch.relu_(x))}, is the same as id of x because x gets modified in place\")\n"
   ]
  },
  {
   "cell_type": "code",
   "execution_count": null,
   "id": "17dd427c",
   "metadata": {},
   "outputs": [],
   "source": []
  },
  {
   "cell_type": "markdown",
   "id": "a43cefd5",
   "metadata": {},
   "source": [
    "### Copying a tensor"
   ]
  },
  {
   "cell_type": "code",
   "execution_count": 277,
   "id": "76c2ca8a",
   "metadata": {},
   "outputs": [
    {
     "name": "stdout",
     "output_type": "stream",
     "text": [
      "2048125585760 2048125585760 True\n"
     ]
    }
   ],
   "source": [
    "torch.manual_seed(3)\n",
    "x = torch.rand(2,3)\n",
    "\n",
    "# Assignment operatior doesn't create a copy!\n",
    "x = y\n",
    "print(id(x),id(y),id(x) == id(y))\n"
   ]
  },
  {
   "cell_type": "code",
   "execution_count": 279,
   "id": "609248a3",
   "metadata": {},
   "outputs": [
    {
     "name": "stdout",
     "output_type": "stream",
     "text": [
      "2048125413696 2048125585760 False\n"
     ]
    }
   ],
   "source": [
    "# Created the copy of the tensor in another memory location using clone()\n",
    "x = y.clone()\n",
    "print(id(x),id(y),id(x) == id(y))"
   ]
  },
  {
   "cell_type": "markdown",
   "id": "564af381",
   "metadata": {},
   "source": [
    "### Device performance for tensor operations"
   ]
  },
  {
   "cell_type": "code",
   "execution_count": 2,
   "id": "37c34b2a",
   "metadata": {},
   "outputs": [
    {
     "name": "stdout",
     "output_type": "stream",
     "text": [
      "Total time taken on cpu: 3.1489 seconds\n"
     ]
    }
   ],
   "source": [
    "import time\n",
    "torch.manual_seed(20)\n",
    "\n",
    "# create random matrices on cpu\n",
    "size = 10_000\n",
    "x = torch.randn(size,size)\n",
    "y = torch.randn(size,size)\n",
    "\n",
    "start = time.time()\n",
    "result = torch.matmul(x,y)\n",
    "end = time.time()\n",
    "\n",
    "print(f\"Total time taken on cpu: {end - start:.4f} seconds\")\n",
    "\n"
   ]
  },
  {
   "cell_type": "code",
   "execution_count": 3,
   "id": "4e03d628",
   "metadata": {},
   "outputs": [
    {
     "data": {
      "text/plain": [
       "torch.Size([10000, 10000])"
      ]
     },
     "execution_count": 3,
     "metadata": {},
     "output_type": "execute_result"
    }
   ],
   "source": [
    "result.shape"
   ]
  },
  {
   "cell_type": "code",
   "execution_count": null,
   "id": "cbd5dba6",
   "metadata": {},
   "outputs": [],
   "source": []
  },
  {
   "cell_type": "markdown",
   "id": "47f22340",
   "metadata": {},
   "source": [
    "### Reshaping the tensor"
   ]
  },
  {
   "cell_type": "code",
   "execution_count": 15,
   "id": "610f79d7",
   "metadata": {},
   "outputs": [
    {
     "name": "stdout",
     "output_type": "stream",
     "text": [
      "tensor([[1., 1., 1.],\n",
      "        [1., 1., 1.],\n",
      "        [1., 1., 1.]]) 2\n",
      "tensor([[[1., 1., 1.],\n",
      "         [1., 1., 1.],\n",
      "         [1., 1., 1.]]]) 3\n"
     ]
    }
   ],
   "source": [
    "torch.manual_seed(2)\n",
    "a = torch.ones(3,3)\n",
    "print(a,a.ndim)\n",
    "\n",
    "a = a.reshape(1,3,3)\n",
    "print(a,a.ndim)"
   ]
  },
  {
   "cell_type": "code",
   "execution_count": 16,
   "id": "05d8ea38",
   "metadata": {},
   "outputs": [
    {
     "data": {
      "text/plain": [
       "(tensor([1., 1., 1., 1., 1., 1., 1., 1., 1.]), 1, torch.Size([9]))"
      ]
     },
     "execution_count": 16,
     "metadata": {},
     "output_type": "execute_result"
    }
   ],
   "source": [
    "# flatten\n",
    "a.flatten(),a.flatten().ndim,a.flatten().shape"
   ]
  },
  {
   "cell_type": "code",
   "execution_count": 18,
   "id": "207a9b3a",
   "metadata": {},
   "outputs": [
    {
     "data": {
      "text/plain": [
       "torch.Size([4, 2, 3])"
      ]
     },
     "execution_count": 18,
     "metadata": {},
     "output_type": "execute_result"
    }
   ],
   "source": [
    "# permute...permuting the order of the dimension of tensor!\n",
    "a = torch.randn(2,3,4)\n",
    "a.permute(2,0,1).shape\n"
   ]
  },
  {
   "cell_type": "code",
   "execution_count": null,
   "id": "0ed82637",
   "metadata": {},
   "outputs": [
    {
     "data": {
      "text/plain": [
       "(torch.Size([1, 226, 226, 3]), torch.Size([226, 1, 226, 3]))"
      ]
     },
     "execution_count": 22,
     "metadata": {},
     "output_type": "execute_result"
    }
   ],
   "source": [
    "# unsqueeze....utility....(providing a BATCH of input images to a CNN like n*226*226*3)\n",
    "# A typical image size(example)\n",
    "\n",
    "# unsqueeze ADDS  a new dimension at the specified dimension index\n",
    "\n",
    "a = torch.rand(226,226,3)\n",
    "a.unsqueeze(0).shape,a.unsqueeze(1).shape"
   ]
  },
  {
   "cell_type": "code",
   "execution_count": 33,
   "id": "0cb7c5a4",
   "metadata": {},
   "outputs": [
    {
     "data": {
      "text/plain": [
       "(torch.Size([1, 20]), torch.Size([20]), torch.Size([1, 20]))"
      ]
     },
     "execution_count": 33,
     "metadata": {},
     "output_type": "execute_result"
    }
   ],
   "source": [
    "# squeeze\n",
    "# squeeze REMOVES  a dimension at the specified dimension index\n",
    "d = torch.rand(1,20)\n",
    "d.shape,d.squeeze(0).shape,d.squeeze(1).shape"
   ]
  },
  {
   "cell_type": "code",
   "execution_count": null,
   "id": "f146fc86",
   "metadata": {},
   "outputs": [],
   "source": []
  },
  {
   "cell_type": "markdown",
   "id": "85153f34",
   "metadata": {},
   "source": [
    "### Numpy vs Pytorch"
   ]
  },
  {
   "cell_type": "code",
   "execution_count": 38,
   "id": "dffb5d21",
   "metadata": {},
   "outputs": [
    {
     "name": "stdout",
     "output_type": "stream",
     "text": [
      "tensor([1, 2, 3]) <class 'torch.Tensor'>\n"
     ]
    },
    {
     "data": {
      "text/plain": [
       "(array([1, 2, 3]), numpy.ndarray)"
      ]
     },
     "execution_count": 38,
     "metadata": {},
     "output_type": "execute_result"
    }
   ],
   "source": [
    "import numpy as np\n",
    "\n",
    "# converting a pytorch tensor to numpy array\n",
    "\n",
    "x = torch.tensor([1,2,3])\n",
    "print(x,type(x))\n",
    "\n",
    "\n",
    "y = x.numpy()\n",
    "y,type(y)"
   ]
  },
  {
   "cell_type": "code",
   "execution_count": 41,
   "id": "6f338f84",
   "metadata": {},
   "outputs": [
    {
     "name": "stdout",
     "output_type": "stream",
     "text": [
      "[1 2 3] <class 'numpy.ndarray'>\n",
      "tensor([1, 2, 3]) <class 'torch.Tensor'>\n"
     ]
    }
   ],
   "source": [
    "# converting numpy array to pytorch tensor\n",
    "c = np.array([1,2,3])\n",
    "print(c,type(c))\n",
    "\n",
    "d = torch.from_numpy(c)\n",
    "print(d,type(d))"
   ]
  },
  {
   "cell_type": "code",
   "execution_count": null,
   "id": "ac72eca2",
   "metadata": {},
   "outputs": [],
   "source": []
  }
 ],
 "metadata": {
  "kernelspec": {
   "display_name": "torchenv",
   "language": "python",
   "name": "python3"
  },
  "language_info": {
   "codemirror_mode": {
    "name": "ipython",
    "version": 3
   },
   "file_extension": ".py",
   "mimetype": "text/x-python",
   "name": "python",
   "nbconvert_exporter": "python",
   "pygments_lexer": "ipython3",
   "version": "3.13.2"
  }
 },
 "nbformat": 4,
 "nbformat_minor": 5
}
