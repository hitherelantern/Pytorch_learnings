{
 "cells": [
  {
   "cell_type": "markdown",
   "id": "972addd8",
   "metadata": {},
   "source": [
    "#### Improvements \n",
    "- Building neural networks using nn module\n",
    "- Using built-in activation function\n",
    "- Using built-in loss function\n",
    "- Using built-in optimizer"
   ]
  },
  {
   "cell_type": "code",
   "execution_count": 2,
   "id": "83c8c4b0",
   "metadata": {},
   "outputs": [],
   "source": [
    "import torch\n",
    "import torch.nn as nn\n"
   ]
  },
  {
   "cell_type": "markdown",
   "id": "6e55363a",
   "metadata": {},
   "source": [
    "- The torch.nn module in pytorch is a core library that provides a wide array of classes and functions designed to help developers build neural networks efficiently and effectively.It abstracts the complexity of creating and training neural networks by offering pre-built layers,loss functions,activation functions and other utilities,enabling you to focus on designing and experimenting with model architectures\n",
    "\n",
    "- nn.module: The base class for all neural network modules.Your custom models and layers should subclass this class\n",
    "\n",
    "####  Key components of nn module\n",
    "\n",
    "\n",
    "\n",
    "- Layers                .... nn.Linear,nn.LSTM,nn.Conv2d\n",
    "- Activation functions        ... nn.ReLU\n",
    "- Loss functions                .... nn.CrossEntropyLoss\n",
    "- Container modules             ....a sequential container to stack layers in order (eg, nn.sequential)\n",
    "- Regularization and dropout     .... nn.BatchNorm2d,nn.Dropout"
   ]
  },
  {
   "cell_type": "code",
   "execution_count": null,
   "id": "2cb5d5fa",
   "metadata": {},
   "outputs": [],
   "source": []
  },
  {
   "cell_type": "markdown",
   "id": "f40b3781",
   "metadata": {},
   "source": [
    "#### Calling the Object Triggers `__call__`:\n",
    "\n",
    "- In PyTorch, `nn.Linear` inherits from `nn.Module`, which defines a `__call__` method.\n",
    "\n",
    "- When you do `self.linear(features)`, it calls `self.linear.__call__(features)` internally.\n",
    "\n",
    "- The `__call__` method, in turn, invokes the `forward` method of the `nn.Linear` class.\n"
   ]
  },
  {
   "cell_type": "code",
   "execution_count": 12,
   "id": "833d0d9a",
   "metadata": {},
   "outputs": [],
   "source": [
    "class Model(nn.Module):\n",
    "\n",
    "    def __init__(self,n_features):\n",
    "\n",
    "        # Invoking the parent class constructor in the child class constructor\n",
    "        super().__init__()\n",
    "\n",
    "        self.layer1 = nn.Linear(n_features,3)\n",
    "        self.relu = nn.ReLU()\n",
    "        self.layer2 = nn.Linear(3,1)\n",
    "        self.sigmoid = nn.Sigmoid()\n",
    "\n",
    "    def forward(self,features):\n",
    "\n",
    "        z1 = self.layer1(features)\n",
    "        out1 = self.relu(z1)\n",
    "\n",
    "        z2 = self.layer2(out1)\n",
    "        out2 = self.sigmoid(z2)\n",
    "\n",
    "        return out2\n",
    "\n"
   ]
  },
  {
   "cell_type": "code",
   "execution_count": 13,
   "id": "0c27d20d",
   "metadata": {},
   "outputs": [
    {
     "data": {
      "text/plain": [
       "(tensor([[0.3814],\n",
       "         [0.3856],\n",
       "         [0.3810],\n",
       "         [0.3942],\n",
       "         [0.3867],\n",
       "         [0.4209],\n",
       "         [0.3799],\n",
       "         [0.4012],\n",
       "         [0.3916],\n",
       "         [0.4053]], grad_fn=<SigmoidBackward0>),\n",
       " torch.Size([10, 1]))"
      ]
     },
     "execution_count": 13,
     "metadata": {},
     "output_type": "execute_result"
    }
   ],
   "source": [
    "# create dataset\n",
    "\n",
    "features = torch.rand(10,5)\n",
    "\n",
    "# create a model\n",
    "\n",
    "model = Model(features.shape[1])\n",
    "model(features),model(features).shape"
   ]
  },
  {
   "cell_type": "code",
   "execution_count": 14,
   "id": "7fa327eb",
   "metadata": {},
   "outputs": [
    {
     "data": {
      "text/plain": [
       "(Parameter containing:\n",
       " tensor([[-0.2294,  0.3971,  0.4454, -0.3045,  0.3953],\n",
       "         [ 0.2464,  0.0275, -0.0132,  0.2077,  0.1958],\n",
       "         [ 0.2679,  0.0267, -0.2227, -0.1950, -0.2872]], requires_grad=True),\n",
       " Parameter containing:\n",
       " tensor([0.3417, 0.0523, 0.0865], requires_grad=True))"
      ]
     },
     "execution_count": 14,
     "metadata": {},
     "output_type": "execute_result"
    }
   ],
   "source": [
    "model.layer1.weight,model.layer1.bias"
   ]
  },
  {
   "cell_type": "code",
   "execution_count": 15,
   "id": "d49c2fe8",
   "metadata": {},
   "outputs": [
    {
     "data": {
      "text/plain": [
       "==========================================================================================\n",
       "Layer (type:depth-idx)                   Output Shape              Param #\n",
       "==========================================================================================\n",
       "Model                                    [10, 1]                   --\n",
       "├─Linear: 1-1                            [10, 3]                   18\n",
       "├─ReLU: 1-2                              [10, 3]                   --\n",
       "├─Linear: 1-3                            [10, 1]                   4\n",
       "├─Sigmoid: 1-4                           [10, 1]                   --\n",
       "==========================================================================================\n",
       "Total params: 22\n",
       "Trainable params: 22\n",
       "Non-trainable params: 0\n",
       "Total mult-adds (Units.MEGABYTES): 0.00\n",
       "==========================================================================================\n",
       "Input size (MB): 0.00\n",
       "Forward/backward pass size (MB): 0.00\n",
       "Params size (MB): 0.00\n",
       "Estimated Total Size (MB): 0.00\n",
       "=========================================================================================="
      ]
     },
     "execution_count": 15,
     "metadata": {},
     "output_type": "execute_result"
    }
   ],
   "source": [
    "from torchinfo import summary\n",
    "\n",
    "summary(model,input_size=(10,5))"
   ]
  },
  {
   "cell_type": "markdown",
   "id": "5f0d9cc1",
   "metadata": {},
   "source": [
    "#### Simplifying further using nn.Sequential"
   ]
  },
  {
   "cell_type": "code",
   "execution_count": 28,
   "id": "9aee5bcc",
   "metadata": {},
   "outputs": [
    {
     "data": {
      "text/plain": [
       "tensor([[0.4819],\n",
       "        [0.5033],\n",
       "        [0.4957],\n",
       "        [0.4912],\n",
       "        [0.4972],\n",
       "        [0.4992],\n",
       "        [0.5050],\n",
       "        [0.5023],\n",
       "        [0.5047],\n",
       "        [0.4873]], grad_fn=<SigmoidBackward0>)"
      ]
     },
     "execution_count": 28,
     "metadata": {},
     "output_type": "execute_result"
    }
   ],
   "source": [
    "class Model(nn.Module):\n",
    "\n",
    "    def __init__(self,n_features):\n",
    "\n",
    "        super().__init__()\n",
    "        self.network = nn.Sequential(\n",
    "            nn.Linear(n_features,3),\n",
    "            nn.ReLU(),\n",
    "            nn.Linear(3,1),\n",
    "             nn.Sigmoid()\n",
    "        )\n",
    "\n",
    "    def forward(self,features):\n",
    "\n",
    "        out = self.network(features)\n",
    "        return out\n",
    "    \n",
    "\n",
    "\n",
    "\n",
    "# create dataset\n",
    "features = torch.rand(10,5)\n",
    "\n",
    "# create a model\n",
    "model = Model(features.shape[1])\n",
    "model(features)"
   ]
  },
  {
   "cell_type": "code",
   "execution_count": null,
   "id": "7123b46f",
   "metadata": {},
   "outputs": [],
   "source": []
  },
  {
   "cell_type": "code",
   "execution_count": null,
   "id": "732fbdce",
   "metadata": {},
   "outputs": [],
   "source": []
  }
 ],
 "metadata": {
  "kernelspec": {
   "display_name": "torchenv",
   "language": "python",
   "name": "python3"
  },
  "language_info": {
   "codemirror_mode": {
    "name": "ipython",
    "version": 3
   },
   "file_extension": ".py",
   "mimetype": "text/x-python",
   "name": "python",
   "nbconvert_exporter": "python",
   "pygments_lexer": "ipython3",
   "version": "3.13.2"
  }
 },
 "nbformat": 4,
 "nbformat_minor": 5
}
